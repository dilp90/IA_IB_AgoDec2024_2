{
  "nbformat": 4,
  "nbformat_minor": 0,
  "metadata": {
    "colab": {
      "provenance": [],
      "authorship_tag": "ABX9TyMkv+rBmXIoKZ9d06ALz2g6",
      "include_colab_link": true
    },
    "kernelspec": {
      "name": "python3",
      "display_name": "Python 3"
    },
    "language_info": {
      "name": "python"
    }
  },
  "cells": [
    {
      "cell_type": "markdown",
      "metadata": {
        "id": "view-in-github",
        "colab_type": "text"
      },
      "source": [
        "<a href=\"https://colab.research.google.com/github/dilp90/IA_IB_AgoDec2024_2/blob/main/ThisIsMyFirstNotebook.ipynb\" target=\"_parent\"><img src=\"https://colab.research.google.com/assets/colab-badge.svg\" alt=\"Open In Colab\"/></a>"
      ]
    },
    {
      "cell_type": "markdown",
      "source": [
        "\n",
        "# **My first Notebook**\n",
        "\n",
        "Here I am going to learn about python. I can do it!"
      ],
      "metadata": {
        "id": "jvSsrpk44df1"
      }
    },
    {
      "cell_type": "code",
      "source": [
        "i = 0\n",
        "\n",
        "while i < 6:\n",
        "  print(i)\n",
        "  i += 1  # i = i + 1"
      ],
      "metadata": {
        "id": "kbTxVpv4CXXS",
        "colab": {
          "base_uri": "https://localhost:8080/"
        },
        "outputId": "b235a2c1-823c-49b3-b17d-8c216898962d"
      },
      "execution_count": 6,
      "outputs": [
        {
          "output_type": "stream",
          "name": "stdout",
          "text": [
            "0\n",
            "1\n",
            "2\n",
            "3\n",
            "4\n",
            "5\n"
          ]
        }
      ]
    },
    {
      "cell_type": "code",
      "source": [
        "i = 1\n",
        "while i < 6:\n",
        "  print(i)\n",
        "  if i == 8:\n",
        "    print(\"Error!\")\n",
        "    break\n",
        "  i += 1\n",
        "else:\n",
        "  print(\"se terminó el ciclo while\")"
      ],
      "metadata": {
        "colab": {
          "base_uri": "https://localhost:8080/"
        },
        "id": "4Oc4uEAQRTXx",
        "outputId": "39a92f09-a4af-44cb-d26d-2adda0f29458"
      },
      "execution_count": 10,
      "outputs": [
        {
          "output_type": "stream",
          "name": "stdout",
          "text": [
            "1\n",
            "2\n",
            "3\n",
            "4\n",
            "5\n",
            "se terminó el ciclo while\n"
          ]
        }
      ]
    },
    {
      "cell_type": "code",
      "source": [
        "message = input(\"Dime algo y te lo voy a repetir: \")\n",
        "print(\"Hola mi \" + message)"
      ],
      "metadata": {
        "colab": {
          "base_uri": "https://localhost:8080/"
        },
        "id": "i_tKPPPyR3mb",
        "outputId": "975489b1-465f-404e-bab9-396fbad45e63"
      },
      "execution_count": 16,
      "outputs": [
        {
          "output_type": "stream",
          "name": "stdout",
          "text": [
            "Dime algo y te lo voy a repetir: Pancho\n",
            "hola mi Pancho\n"
          ]
        }
      ]
    },
    {
      "cell_type": "code",
      "source": [
        "# Función en python.\n",
        "def my_function():\n",
        "  print(\"Hello from a function\")"
      ],
      "metadata": {
        "id": "VBH5Yo03SzPy"
      },
      "execution_count": 17,
      "outputs": []
    },
    {
      "cell_type": "code",
      "source": [
        "def my_function(fname):\n",
        "  print(fname + \" García\")"
      ],
      "metadata": {
        "id": "brqF8Az3TCvR"
      },
      "execution_count": 19,
      "outputs": []
    },
    {
      "cell_type": "code",
      "source": [
        "my_function(\"Pancho\")\n",
        "my_function(\"Emil\")\n",
        "my_function(\"Tobias\")\n",
        "my_function(\"Linus\")"
      ],
      "metadata": {
        "colab": {
          "base_uri": "https://localhost:8080/"
        },
        "id": "wU-WiLh5S8CE",
        "outputId": "026b5bc0-b474-4355-95b7-a6d43e30cc66"
      },
      "execution_count": 22,
      "outputs": [
        {
          "output_type": "stream",
          "name": "stdout",
          "text": [
            "Pancho García\n",
            "Emil García\n",
            "Tobias García\n",
            "Linus García\n"
          ]
        }
      ]
    },
    {
      "cell_type": "code",
      "source": [
        "def my_function(fname, lname):\n",
        "  print(fname + \" \" + lname)"
      ],
      "metadata": {
        "id": "KkpBxmqpTrCP"
      },
      "execution_count": 23,
      "outputs": []
    },
    {
      "cell_type": "code",
      "source": [
        "a= \"PAncho\"\n",
        "b= \"García\"\n",
        "my_function(a,b)"
      ],
      "metadata": {
        "colab": {
          "base_uri": "https://localhost:8080/"
        },
        "id": "Ewa7hJZST15d",
        "outputId": "05da4eb1-a037-46fb-9dda-e8e85e55f400"
      },
      "execution_count": 25,
      "outputs": [
        {
          "output_type": "stream",
          "name": "stdout",
          "text": [
            "PAncho García\n"
          ]
        }
      ]
    },
    {
      "cell_type": "code",
      "source": [
        "a = input(\"Dime algo y te lo voy a repetir: \")\n",
        "my_function(a,b)"
      ],
      "metadata": {
        "colab": {
          "base_uri": "https://localhost:8080/"
        },
        "id": "Cr0LJitzUMHx",
        "outputId": "ec6fcf7e-847c-4886-c880-63d7b357224d"
      },
      "execution_count": 26,
      "outputs": [
        {
          "output_type": "stream",
          "name": "stdout",
          "text": [
            "Dime algo y te lo voy a repetir: Juan\n",
            "Juan García\n"
          ]
        }
      ]
    },
    {
      "cell_type": "code",
      "source": [
        "def pancho(child3, child2, child1):\n",
        "  print(\"The youngest child is \" + child3)\n",
        "  a = child2 + child1\n",
        "  print(a)"
      ],
      "metadata": {
        "id": "cjblkW6NUXGQ"
      },
      "execution_count": 28,
      "outputs": []
    },
    {
      "cell_type": "code",
      "source": [
        "pancho(\"Emil\",\"Tobias\",\"Linus\")"
      ],
      "metadata": {
        "colab": {
          "base_uri": "https://localhost:8080/"
        },
        "id": "0ZHLY2_uUx9D",
        "outputId": "b9fc581e-233d-4d78-b516-8deb58883b38"
      },
      "execution_count": 29,
      "outputs": [
        {
          "output_type": "stream",
          "name": "stdout",
          "text": [
            "The youngest child is Emil\n",
            "TobiasLinus\n"
          ]
        }
      ]
    },
    {
      "cell_type": "code",
      "source": [
        "my_function(child1 = \"Emil\", child2 = \"Tobias\", child3 = \"Linus\")"
      ],
      "metadata": {
        "colab": {
          "base_uri": "https://localhost:8080/"
        },
        "id": "ny9VwnopU86O",
        "outputId": "47c8cba0-45d7-464d-c1d8-432f823ed025"
      },
      "execution_count": 30,
      "outputs": [
        {
          "output_type": "stream",
          "name": "stdout",
          "text": [
            "The youngest child is Linus\n",
            "TobiasEmil\n"
          ]
        }
      ]
    },
    {
      "cell_type": "code",
      "source": [
        "# Usando una lista de argumento.\n",
        "def my_function(food):\n",
        "  for x in food:\n",
        "    print(x)"
      ],
      "metadata": {
        "id": "6J5KUXUZVH6v"
      },
      "execution_count": 31,
      "outputs": []
    },
    {
      "cell_type": "code",
      "source": [
        "my_function([2, 3 , 5, 8, 789 ])"
      ],
      "metadata": {
        "colab": {
          "base_uri": "https://localhost:8080/"
        },
        "id": "LqfQriggVLPS",
        "outputId": "384c56ce-ff43-43cc-9dd5-aaa68928ed79"
      },
      "execution_count": 34,
      "outputs": [
        {
          "output_type": "stream",
          "name": "stdout",
          "text": [
            "2\n",
            "3\n",
            "5\n",
            "8\n",
            "789\n"
          ]
        }
      ]
    },
    {
      "cell_type": "code",
      "source": [
        "def funcion(lista):\n",
        "  print(lista[-1])\n",
        "  for x in range(len(lista)):\n",
        "    print(lista[x])"
      ],
      "metadata": {
        "id": "NAU_Dp9TVqQk"
      },
      "execution_count": 35,
      "outputs": []
    },
    {
      "cell_type": "code",
      "source": [
        "funcion(\"pollo\")"
      ],
      "metadata": {
        "colab": {
          "base_uri": "https://localhost:8080/"
        },
        "id": "6LtyIUOHVsHq",
        "outputId": "59afc274-e7e2-4e16-b3de-cfa122b17d44"
      },
      "execution_count": 36,
      "outputs": [
        {
          "output_type": "stream",
          "name": "stdout",
          "text": [
            "o\n",
            "p\n",
            "o\n",
            "l\n",
            "l\n",
            "o\n"
          ]
        }
      ]
    },
    {
      "cell_type": "code",
      "source": [
        "i = 1\n",
        "\n",
        "while i < 6:\n",
        "  print(i)\n",
        "  i += 1  # i = i + 1\n"
      ],
      "metadata": {
        "colab": {
          "base_uri": "https://localhost:8080/"
        },
        "id": "HX4r0LVpyIFF",
        "outputId": "26f80517-ecdf-4fe9-98c0-213acefbdc44"
      },
      "execution_count": 37,
      "outputs": [
        {
          "output_type": "stream",
          "name": "stdout",
          "text": [
            "1\n",
            "2\n",
            "3\n",
            "4\n",
            "5\n"
          ]
        }
      ]
    },
    {
      "cell_type": "code",
      "source": [
        "i = 1\n",
        "\n",
        "while i < 9:\n",
        "  print(i)\n",
        "  if i == 8:\n",
        "    print(\"Error!\")\n",
        "    break\n",
        "  i += 1\n",
        "else:\n",
        "  print(\"se terminó el ciclo while\")"
      ],
      "metadata": {
        "colab": {
          "base_uri": "https://localhost:8080/"
        },
        "id": "uC5BCdkKycfZ",
        "outputId": "615f4af1-ae9f-4ceb-fc78-51701fd98f4a"
      },
      "execution_count": 39,
      "outputs": [
        {
          "output_type": "stream",
          "name": "stdout",
          "text": [
            "1\n",
            "2\n",
            "3\n",
            "4\n",
            "5\n",
            "6\n",
            "7\n",
            "8\n",
            "Error!\n"
          ]
        }
      ]
    },
    {
      "cell_type": "code",
      "source": [
        "# Calcula la tabla del 7\n",
        "\n",
        "i = 1\n",
        "x = []\n",
        "\n",
        "while i < 11:\n",
        "  print(i*7)\n",
        "  x.append(i*7)\n",
        "  i += 1"
      ],
      "metadata": {
        "colab": {
          "base_uri": "https://localhost:8080/"
        },
        "id": "zTKkpDa8zDYF",
        "outputId": "01dfe647-b988-4cce-ef1a-d8a1adb5a46f"
      },
      "execution_count": 41,
      "outputs": [
        {
          "output_type": "stream",
          "name": "stdout",
          "text": [
            "7\n",
            "14\n",
            "21\n",
            "28\n",
            "35\n",
            "42\n",
            "49\n",
            "56\n",
            "63\n",
            "70\n"
          ]
        }
      ]
    },
    {
      "cell_type": "code",
      "source": [
        "print(x)"
      ],
      "metadata": {
        "colab": {
          "base_uri": "https://localhost:8080/"
        },
        "id": "5w2Hd1LVzrVk",
        "outputId": "4c86f461-479a-4cda-f34f-8a5c66a6c1d5"
      },
      "execution_count": 42,
      "outputs": [
        {
          "output_type": "stream",
          "name": "stdout",
          "text": [
            "[7, 14, 21, 28, 35, 42, 49, 56, 63, 70]\n"
          ]
        }
      ]
    },
    {
      "cell_type": "code",
      "source": [
        "message = input(\"Dime algo y te lo voy a repetir: \")\n",
        "print(message)"
      ],
      "metadata": {
        "colab": {
          "base_uri": "https://localhost:8080/"
        },
        "id": "W2oqZqxCzz55",
        "outputId": "29bc91a2-2732-4ffc-a104-b929aca271f4"
      },
      "execution_count": 43,
      "outputs": [
        {
          "output_type": "stream",
          "name": "stdout",
          "text": [
            "Dime algo y te lo voy a repetir: Hola\n",
            "Hola\n"
          ]
        }
      ]
    },
    {
      "cell_type": "code",
      "source": [
        "# Función en python.\n",
        "def my_function():\n",
        "  print(\"Hello from a function\")"
      ],
      "metadata": {
        "id": "tZmQuX920QVs"
      },
      "execution_count": 44,
      "outputs": []
    },
    {
      "cell_type": "code",
      "source": [
        "my_function()"
      ],
      "metadata": {
        "colab": {
          "base_uri": "https://localhost:8080/"
        },
        "id": "pDl291BL0WV4",
        "outputId": "654c95d3-26c1-4c83-975f-e8e009bec49d"
      },
      "execution_count": 45,
      "outputs": [
        {
          "output_type": "stream",
          "name": "stdout",
          "text": [
            "Hello from a function\n"
          ]
        }
      ]
    },
    {
      "cell_type": "code",
      "source": [
        "def my_function(fname):\n",
        "  print(fname + \" García\")"
      ],
      "metadata": {
        "id": "p5sXjg_d0bBJ"
      },
      "execution_count": 46,
      "outputs": []
    },
    {
      "cell_type": "code",
      "source": [
        "my_function(\"Daniel\")\n",
        "my_function(\"Pancho\")\n",
        "my_function(\"Emil\")\n",
        "my_function(\"Tobias\")\n",
        "my_function(\"Linus\")"
      ],
      "metadata": {
        "colab": {
          "base_uri": "https://localhost:8080/"
        },
        "id": "HjdHh95t0gTj",
        "outputId": "8436c151-7152-41c1-91b2-743eb0b5e285"
      },
      "execution_count": 50,
      "outputs": [
        {
          "output_type": "stream",
          "name": "stdout",
          "text": [
            "Daniel García\n",
            "Pancho García\n",
            "Emil García\n",
            "Tobias García\n",
            "Linus García\n"
          ]
        }
      ]
    },
    {
      "cell_type": "code",
      "source": [
        "def my_function(fname, lname):\n",
        "  print(fname + \" \" + lname)"
      ],
      "metadata": {
        "id": "2uG1Wmm90xbg"
      },
      "execution_count": 51,
      "outputs": []
    },
    {
      "cell_type": "code",
      "source": [
        "my_function(\"Daniel\", \"López\")"
      ],
      "metadata": {
        "colab": {
          "base_uri": "https://localhost:8080/"
        },
        "id": "AsXUdto001U_",
        "outputId": "e5f4bb2a-5652-4d4a-d8a3-7bd7b734f77b"
      },
      "execution_count": 53,
      "outputs": [
        {
          "output_type": "stream",
          "name": "stdout",
          "text": [
            "Daniel López\n"
          ]
        }
      ]
    },
    {
      "cell_type": "code",
      "source": [
        "def my_function(food):\n",
        "  for x in food:\n",
        "    print(x)"
      ],
      "metadata": {
        "id": "-HbDQ0A30_vb"
      },
      "execution_count": 54,
      "outputs": []
    },
    {
      "cell_type": "code",
      "source": [
        "my_function(\"apple\")"
      ],
      "metadata": {
        "colab": {
          "base_uri": "https://localhost:8080/"
        },
        "id": "ZGIoEJFM1Cyb",
        "outputId": "d3399c53-8e67-45ef-8c2e-eb0b3c81d087"
      },
      "execution_count": 56,
      "outputs": [
        {
          "output_type": "stream",
          "name": "stdout",
          "text": [
            "a\n",
            "p\n",
            "p\n",
            "l\n",
            "e\n"
          ]
        }
      ]
    },
    {
      "cell_type": "code",
      "source": [
        "def funcion(lista):\n",
        "  print(lista[-1])\n",
        "  for x in range(len(lista)):\n",
        "    print(lista[x])"
      ],
      "metadata": {
        "id": "zxx3GJ1X1Ncf"
      },
      "execution_count": 57,
      "outputs": []
    },
    {
      "cell_type": "code",
      "source": [
        "funcion(\"pollo\")"
      ],
      "metadata": {
        "colab": {
          "base_uri": "https://localhost:8080/"
        },
        "id": "MvcXnwdz1Ogu",
        "outputId": "1fa08366-715d-4c8b-af37-5991b9f4a968"
      },
      "execution_count": 58,
      "outputs": [
        {
          "output_type": "stream",
          "name": "stdout",
          "text": [
            "o\n",
            "p\n",
            "o\n",
            "l\n",
            "l\n",
            "o\n"
          ]
        }
      ]
    },
    {
      "cell_type": "code",
      "source": [
        "# Indentation!\n",
        "a = 33\n",
        "b = 200\n",
        "\n",
        "if b > a:\n",
        "  z = a + b\n",
        "  print(z)"
      ],
      "metadata": {
        "colab": {
          "base_uri": "https://localhost:8080/"
        },
        "id": "Z9JZwLjV8N_N",
        "outputId": "0ebeae55-5b71-45bb-e32d-4a2a11ca0157"
      },
      "execution_count": 2,
      "outputs": [
        {
          "output_type": "stream",
          "name": "stdout",
          "text": [
            "233\n"
          ]
        }
      ]
    },
    {
      "cell_type": "code",
      "source": [
        "# Elif\n",
        "a = 33\n",
        "b = 33\n",
        "\n",
        "if b > a:\n",
        "  print(\"b is greater than a\")\n",
        "elif a == b:\n",
        "  print(\"a and b are equal\")"
      ],
      "metadata": {
        "colab": {
          "base_uri": "https://localhost:8080/"
        },
        "id": "C8xHWIqe8n49",
        "outputId": "ed822ffb-618b-485d-ad3e-bb2c8ea3503c"
      },
      "execution_count": 3,
      "outputs": [
        {
          "output_type": "stream",
          "name": "stdout",
          "text": [
            "a and b are equal\n"
          ]
        }
      ]
    },
    {
      "cell_type": "code",
      "source": [
        "# Else\n",
        "a = 33\n",
        "b = 66\n",
        "\n",
        "if b < a:\n",
        "  print(\"b is greater than a\")\n",
        "elif a == b:\n",
        "  print(\"a and b are equal\")\n",
        "elif a + a == b:\n",
        "  print(\"b is 2 times a\")\n",
        "else:\n",
        "  print(\"a is greater than b\")"
      ],
      "metadata": {
        "colab": {
          "base_uri": "https://localhost:8080/"
        },
        "id": "FkmtN0YP84Rm",
        "outputId": "244d4404-cd77-4ad0-acca-61d5ac64ae63"
      },
      "execution_count": 4,
      "outputs": [
        {
          "output_type": "stream",
          "name": "stdout",
          "text": [
            "b is 2 times a\n"
          ]
        }
      ]
    },
    {
      "cell_type": "code",
      "source": [
        "# Logical operators \"and\", \"or\" y \"not\".\n",
        "a = 200\n",
        "b = 200\n",
        "c = 50\n",
        "\n",
        "if a > b and c > a or a == b:\n",
        "  print(\":D\")"
      ],
      "metadata": {
        "colab": {
          "base_uri": "https://localhost:8080/"
        },
        "id": "2lWwcwj79K0C",
        "outputId": "baf0ed59-4d24-4313-8a27-083363772193"
      },
      "execution_count": 5,
      "outputs": [
        {
          "output_type": "stream",
          "name": "stdout",
          "text": [
            ":D\n"
          ]
        }
      ]
    },
    {
      "cell_type": "code",
      "source": [
        "x = 9\n",
        "\n",
        "if x > 10:\n",
        "  print(\"Above ten,\")\n",
        "  if x > 20:\n",
        "    print(\"Above ten,\" + \" and also above 20!\")\n",
        "  else:\n",
        "    print(\"Above ten,\" + \"but not above 20.\")"
      ],
      "metadata": {
        "id": "07iypJSB9p-7"
      },
      "execution_count": 6,
      "outputs": []
    },
    {
      "cell_type": "code",
      "source": [
        "if x > 10:\n",
        "  print(\"Above ten,\")\n",
        "else:\n",
        "  print(\"Above ten,\" + \" and also above 20!\")\n",
        "  print(\"Above ten,\" + \"but not above 20.\")"
      ],
      "metadata": {
        "colab": {
          "base_uri": "https://localhost:8080/"
        },
        "id": "b2vB4KbD99D4",
        "outputId": "8445d866-5ca0-4924-ffe0-08d8d8053236"
      },
      "execution_count": 8,
      "outputs": [
        {
          "output_type": "stream",
          "name": "stdout",
          "text": [
            "Above ten, and also above 20!\n"
          ]
        }
      ]
    },
    {
      "cell_type": "code",
      "source": [
        "fruits = [\"apple\", \"banana\", \"cherry\"]\n",
        "\n",
        "for x in fruits:\n",
        "  print(x)"
      ],
      "metadata": {
        "colab": {
          "base_uri": "https://localhost:8080/"
        },
        "id": "-K8YwWKb92nR",
        "outputId": "3754ee44-2832-47d5-c48a-961447adc3c0"
      },
      "execution_count": 9,
      "outputs": [
        {
          "output_type": "stream",
          "name": "stdout",
          "text": [
            "apple\n",
            "banana\n",
            "cherry\n"
          ]
        }
      ]
    },
    {
      "cell_type": "code",
      "source": [
        "for x in \"banana\":\n",
        "  print(x)"
      ],
      "metadata": {
        "colab": {
          "base_uri": "https://localhost:8080/"
        },
        "id": "H3FB9ZKx_LNE",
        "outputId": "97d75ee0-2a88-4911-8c1a-2ba7c12729f3"
      },
      "execution_count": 10,
      "outputs": [
        {
          "output_type": "stream",
          "name": "stdout",
          "text": [
            "b\n",
            "a\n",
            "n\n",
            "a\n",
            "n\n",
            "a\n"
          ]
        }
      ]
    },
    {
      "cell_type": "code",
      "source": [
        " # Range\n",
        "y = range(2, 33, 3)\n",
        "\n",
        "for x in y:\n",
        "  print(x)"
      ],
      "metadata": {
        "colab": {
          "base_uri": "https://localhost:8080/"
        },
        "id": "FNLXaoHn_Zfp",
        "outputId": "8ee82aeb-df94-4a24-a1af-62f3d3d7b49f"
      },
      "execution_count": 14,
      "outputs": [
        {
          "output_type": "stream",
          "name": "stdout",
          "text": [
            "2\n",
            "5\n",
            "8\n",
            "11\n",
            "14\n",
            "17\n",
            "20\n",
            "23\n",
            "26\n",
            "29\n",
            "32\n"
          ]
        }
      ]
    },
    {
      "cell_type": "code",
      "source": [
        "for x in range(3):\n",
        "  print(x)\n",
        "else:\n",
        "  print(\"Finally finished!\")"
      ],
      "metadata": {
        "colab": {
          "base_uri": "https://localhost:8080/"
        },
        "id": "db5XvztUAEUE",
        "outputId": "765926f0-2676-4a84-c681-8d25b52e6063"
      },
      "execution_count": 15,
      "outputs": [
        {
          "output_type": "stream",
          "name": "stdout",
          "text": [
            "0\n",
            "1\n",
            "2\n",
            "Finally finished!\n"
          ]
        }
      ]
    },
    {
      "cell_type": "code",
      "source": [
        "# \"break\" to interrupt a cycle.\n",
        "for x in range(8):\n",
        "  if x == 6:\n",
        "    print(\"Error!\")\n",
        "    break\n",
        "  print(x)\n",
        "else:\n",
        "  print(\"Finally finished!\")"
      ],
      "metadata": {
        "colab": {
          "base_uri": "https://localhost:8080/"
        },
        "id": "WYQmog44ATn3",
        "outputId": "60e95bdc-9451-40c0-ce00-7f45374a7e82"
      },
      "execution_count": 17,
      "outputs": [
        {
          "output_type": "stream",
          "name": "stdout",
          "text": [
            "0\n",
            "1\n",
            "2\n",
            "3\n",
            "4\n",
            "5\n",
            "Error!\n"
          ]
        }
      ]
    },
    {
      "cell_type": "code",
      "source": [
        "adj = [\"red\", \"big\", \"tasty\"]\n",
        "fruits = [\"apple\", \"banana\", \"cherry\"]\n",
        "\n",
        "for x in adj:\n",
        "  for y in fruits:\n",
        "    print(x, y)"
      ],
      "metadata": {
        "colab": {
          "base_uri": "https://localhost:8080/"
        },
        "id": "NuGUIBDvAvCs",
        "outputId": "fe4a1ad5-4d11-483b-b9a1-c43c5dd6b695"
      },
      "execution_count": 18,
      "outputs": [
        {
          "output_type": "stream",
          "name": "stdout",
          "text": [
            "red apple\n",
            "red banana\n",
            "red cherry\n",
            "big apple\n",
            "big banana\n",
            "big cherry\n",
            "tasty apple\n",
            "tasty banana\n",
            "tasty cherry\n"
          ]
        }
      ]
    },
    {
      "cell_type": "code",
      "source": [
        "i = 1\n",
        "\n",
        "while i < 6:\n",
        "  print(i)\n",
        "  i += 1  # i = i + 1"
      ],
      "metadata": {
        "colab": {
          "base_uri": "https://localhost:8080/"
        },
        "id": "11ZGIN11BBU2",
        "outputId": "c1f7f741-1109-4ef9-9a66-eed1c4fd7949"
      },
      "execution_count": 19,
      "outputs": [
        {
          "output_type": "stream",
          "name": "stdout",
          "text": [
            "1\n",
            "2\n",
            "3\n",
            "4\n",
            "5\n"
          ]
        }
      ]
    },
    {
      "cell_type": "code",
      "source": [
        "i = 1\n",
        "\n",
        "while i < 6:\n",
        "  print(i)\n",
        "  if i == 5:\n",
        "    print(\"Error!\")\n",
        "    break\n",
        "  i += 1\n",
        "else:\n",
        "  print(\"se terminó el ciclo while\")"
      ],
      "metadata": {
        "colab": {
          "base_uri": "https://localhost:8080/"
        },
        "id": "TtkqhcJeBVSG",
        "outputId": "b7d74294-496b-4a76-b707-34ff0070395f"
      },
      "execution_count": 21,
      "outputs": [
        {
          "output_type": "stream",
          "name": "stdout",
          "text": [
            "1\n",
            "2\n",
            "3\n",
            "4\n",
            "5\n",
            "Error!\n"
          ]
        }
      ]
    },
    {
      "cell_type": "code",
      "source": [
        "message = input(\"Tell me something and I will repeat it: \")\n",
        "print(message)"
      ],
      "metadata": {
        "colab": {
          "base_uri": "https://localhost:8080/"
        },
        "id": "Y0CqUx8EBkfP",
        "outputId": "50d160a2-5c95-41ca-dfe1-8324eb639de3"
      },
      "execution_count": 22,
      "outputs": [
        {
          "output_type": "stream",
          "name": "stdout",
          "text": [
            "Tell me something and I will repeat it: hola\n",
            "hola\n"
          ]
        }
      ]
    },
    {
      "cell_type": "code",
      "source": [
        "adj = [\"red\", \"big\", \"tasty\"]\n",
        "\n",
        "adj.append(\"green\")\n",
        "print(adj)"
      ],
      "metadata": {
        "colab": {
          "base_uri": "https://localhost:8080/"
        },
        "id": "eQT_cKAgBwt2",
        "outputId": "ca8c26a9-0d7f-4f81-be0e-2dbc6badb3bb"
      },
      "execution_count": 25,
      "outputs": [
        {
          "output_type": "stream",
          "name": "stdout",
          "text": [
            "['red', 'big', 'tasty', 'green']\n"
          ]
        }
      ]
    },
    {
      "cell_type": "code",
      "source": [
        "adj.pop(0)\n",
        "print(adj)"
      ],
      "metadata": {
        "colab": {
          "base_uri": "https://localhost:8080/"
        },
        "id": "Uo6licuDCLn5",
        "outputId": "59f35ef3-4663-4c25-d322-f398433286fd"
      },
      "execution_count": 27,
      "outputs": [
        {
          "output_type": "stream",
          "name": "stdout",
          "text": [
            "['tasty', 'green']\n"
          ]
        }
      ]
    },
    {
      "cell_type": "code",
      "source": [
        "# Function in Python.\n",
        "def my_function():\n",
        "  print(\"Hello from a function\")"
      ],
      "metadata": {
        "id": "-nKkRnOfC1WR"
      },
      "execution_count": 28,
      "outputs": []
    },
    {
      "cell_type": "code",
      "source": [
        "def my_function(fname):\n",
        "  print(fname + \" García\")"
      ],
      "metadata": {
        "id": "NGSwW5xTDHny"
      },
      "execution_count": 30,
      "outputs": []
    },
    {
      "cell_type": "code",
      "source": [
        "def my_function(fname, lname):\n",
        "  print(fname + \" \" + lname)"
      ],
      "metadata": {
        "id": "3R9RDabZDekQ"
      },
      "execution_count": 33,
      "outputs": []
    },
    {
      "cell_type": "code",
      "source": [
        "# List as an argument.\n",
        "def my_function(food):\n",
        "  for x in food:\n",
        "    print(x)"
      ],
      "metadata": {
        "id": "xI0yXP4uDo5m"
      },
      "execution_count": 36,
      "outputs": []
    },
    {
      "cell_type": "code",
      "source": [
        "my_function(\"Daniel\")"
      ],
      "metadata": {
        "colab": {
          "base_uri": "https://localhost:8080/"
        },
        "id": "SXgEZ1D6C_Z5",
        "outputId": "7fe0823d-7081-4cc8-e6a7-c15a5511b186"
      },
      "execution_count": 38,
      "outputs": [
        {
          "output_type": "stream",
          "name": "stdout",
          "text": [
            "D\n",
            "a\n",
            "n\n",
            "i\n",
            "e\n",
            "l\n"
          ]
        }
      ]
    },
    {
      "cell_type": "code",
      "source": [
        "def funcion(lista):\n",
        "  print(lista[-1])\n",
        "  for x in range(len(lista)):\n",
        "    print(lista[x])"
      ],
      "metadata": {
        "id": "yxErp1bLD1oQ"
      },
      "execution_count": 39,
      "outputs": []
    },
    {
      "cell_type": "code",
      "source": [
        "funcion(adj)"
      ],
      "metadata": {
        "colab": {
          "base_uri": "https://localhost:8080/"
        },
        "id": "OfllEnUYD3i3",
        "outputId": "208f8e94-d5da-4306-a264-579ff0f15692"
      },
      "execution_count": 40,
      "outputs": [
        {
          "output_type": "stream",
          "name": "stdout",
          "text": [
            "green\n",
            "tasty\n",
            "green\n"
          ]
        }
      ]
    },
    {
      "cell_type": "code",
      "source": [
        "print(adj)"
      ],
      "metadata": {
        "colab": {
          "base_uri": "https://localhost:8080/"
        },
        "id": "L-9H-yZYECMk",
        "outputId": "df43bfa8-c356-40b7-9ef7-b22cb10f9643"
      },
      "execution_count": 41,
      "outputs": [
        {
          "output_type": "stream",
          "name": "stdout",
          "text": [
            "['tasty', 'green']\n"
          ]
        }
      ]
    },
    {
      "cell_type": "code",
      "source": [
        "import numpy as np\n",
        "import pandas as pd\n",
        "import matplotlib.pyplot as plt\n",
        "import seaborn as sns"
      ],
      "metadata": {
        "id": "YFQpHgfoEpvb"
      },
      "execution_count": 43,
      "outputs": []
    },
    {
      "cell_type": "code",
      "source": [
        "# neural network example\n",
        "from numpy import loadtxt\n",
        "from keras.models import Sequential\n",
        "from keras.layers import Dense"
      ],
      "metadata": {
        "id": "WYkzmLg1Ezyr"
      },
      "execution_count": null,
      "outputs": []
    }
  ]
}
